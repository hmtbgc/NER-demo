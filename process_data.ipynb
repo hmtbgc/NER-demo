{
 "cells": [
  {
   "cell_type": "code",
   "execution_count": 11,
   "metadata": {},
   "outputs": [],
   "source": [
    "import json\n",
    "import os\n",
    "from tqdm import tqdm"
   ]
  },
  {
   "cell_type": "code",
   "execution_count": 12,
   "metadata": {},
   "outputs": [
    {
     "name": "stderr",
     "output_type": "stream",
     "text": [
      "400it [00:00, 5510.92it/s]\n",
      "600it [00:00, 6605.78it/s]\n"
     ]
    }
   ],
   "source": [
    "root = \"./data\"\n",
    "train_data = [os.path.join(root, \"subtask1_training_part1.txt\"), os.path.join(root, \"subtask1_training_part2.txt\")]\n",
    "label_dict = { \"药物\" : \"DRUG\",\n",
    "               \"解剖部位\" : \"BODY\",\n",
    "               \"疾病和诊断\" : \"DISEASES\",\n",
    "               \"影像检查\" : \"EXAMINATIONS\",\n",
    "               \"实验室检验\" : \"TEST\",\n",
    "               \"手术\" : \"TREATMENT\"\n",
    "            }\n",
    "\n",
    "output_path = os.path.join(root, \"train_data.txt\")\n",
    "processed_output = open(output_path, \"w\")\n",
    "\n",
    "for path in train_data:\n",
    "    with open(path, \"r\", encoding=\"utf-8-sig\") as f:\n",
    "        for line in tqdm(f):\n",
    "            data = json.loads(line)\n",
    "            originalText = data[\"originalText\"]\n",
    "            textLength = len(originalText)\n",
    "            label = ['O'] * textLength\n",
    "            \n",
    "            entities = data[\"entities\"]\n",
    "            for entity in entities:\n",
    "                label_type = entity[\"label_type\"]\n",
    "                start_pos = entity[\"start_pos\"]\n",
    "                end_pos = entity[\"end_pos\"]\n",
    "                label[start_pos] = \"B-\" + label_dict[label_type]\n",
    "                label[start_pos+1 : end_pos] = [\"I-\" + label_dict[label_type]] * (end_pos - start_pos - 1)\n",
    "            \n",
    "            for i in range(textLength):\n",
    "                print(f\"{originalText[i]}\\t{label[i]}\", file=processed_output)\n",
    "processed_output.close()                \n",
    "                \n",
    "            \n",
    "            "
   ]
  },
  {
   "cell_type": "code",
   "execution_count": 10,
   "metadata": {},
   "outputs": [
    {
     "name": "stderr",
     "output_type": "stream",
     "text": [
      "379it [00:00, 6850.51it/s]\n"
     ]
    }
   ],
   "source": [
    "test_data = os.path.join(root, \"subtask1_test_set_with_answer.json\")\n",
    "test_output_path = os.path.join(root, \"test_data.txt\")\n",
    "test_output = open(test_output_path, \"w\")\n",
    "\n",
    "with open(test_data, \"r\") as f:\n",
    "    for line in tqdm(f):\n",
    "        data = json.loads(line)\n",
    "        originalText = data[\"originalText\"]\n",
    "        textLength = len(originalText)\n",
    "        label = ['O'] * textLength\n",
    "        \n",
    "        entities = data[\"entities\"]\n",
    "        for entity in entities:\n",
    "            label_type = entity[\"label_type\"]\n",
    "            start_pos = entity[\"start_pos\"]\n",
    "            end_pos = entity[\"end_pos\"]\n",
    "            label[start_pos] = \"B-\" + label_dict[label_type]\n",
    "            label[start_pos+1 : end_pos] = [\"I-\" + label_dict[label_type]] * (end_pos - start_pos - 1)\n",
    "        \n",
    "        for i in range(textLength):\n",
    "            print(f\"{originalText[i]}\\t{label[i]}\", file=test_output)\n",
    "            \n",
    "test_output.close()\n",
    "\n",
    "        \n"
   ]
  }
 ],
 "metadata": {
  "kernelspec": {
   "display_name": "gpt2",
   "language": "python",
   "name": "python3"
  },
  "language_info": {
   "codemirror_mode": {
    "name": "ipython",
    "version": 3
   },
   "file_extension": ".py",
   "mimetype": "text/x-python",
   "name": "python",
   "nbconvert_exporter": "python",
   "pygments_lexer": "ipython3",
   "version": "3.10.9"
  },
  "orig_nbformat": 4
 },
 "nbformat": 4,
 "nbformat_minor": 2
}
